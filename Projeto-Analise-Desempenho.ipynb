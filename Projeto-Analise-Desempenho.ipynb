{
 "cells": [
  {
   "cell_type": "markdown",
   "id": "d4b3a564",
   "metadata": {},
   "source": [
    "## Problema de Negócio: Análise de Desempenho de Vendas por Segmento, Região e Categoria de Produto\n",
    "\n",
    "Uma empresa de varejo internacional deseja analisar o desempenho de suas vendas com base nos segmentos de clientes, regiões de atuação e categorias de produtos. A empresa possui dados históricos de vendas que incluem informações sobre os clientes, os produtos vendidos e o valor das vendas em diferentes regiões e categorias de produtos.\n",
    " \n",
    "##### Objetivo:\n",
    "\n",
    "- Descobrir quantos Países e regiões temos e determinar qual é o País e a região que mais contribuiu para o faturamento total da empresa e qual o  País e a região que menos contribuiu para o faturamento total, seguido com valores.\n",
    "- Identificar qual categoria de produto é a mais vendida e se alguma categoria se destaca em termos de receita.\n",
    "- Identificar quais segmentos de clientes estão gerando mais receita e quais regiões têm o melhor desempenho de vendas.\n",
    "- Identificar se existe alguma relação entre o segmento de cliente, a região e a categoria de produto com o valor das vendas.\n",
    "- Analisar o desempenho de vendas por segmento de cliente, região e categoria de produto para identificar áreas de oportunidade e potenciais problemas."
   ]
  },
  {
   "cell_type": "code",
   "execution_count": 1,
   "id": "af93a401",
   "metadata": {},
   "outputs": [
    {
     "name": "stdout",
     "output_type": "stream",
     "text": [
      "Requirement already satisfied: pandas in c:\\users\\alexf\\anaconda3\\lib\\site-packages (1.4.4)\n",
      "Requirement already satisfied: python-dateutil>=2.8.1 in c:\\users\\alexf\\anaconda3\\lib\\site-packages (from pandas) (2.8.2)\n",
      "Requirement already satisfied: pytz>=2020.1 in c:\\users\\alexf\\anaconda3\\lib\\site-packages (from pandas) (2022.1)\n",
      "Requirement already satisfied: numpy>=1.18.5 in c:\\users\\alexf\\anaconda3\\lib\\site-packages (from pandas) (1.21.5)\n",
      "Requirement already satisfied: six>=1.5 in c:\\users\\alexf\\anaconda3\\lib\\site-packages (from python-dateutil>=2.8.1->pandas) (1.16.0)\n",
      "Note: you may need to restart the kernel to use updated packages.\n"
     ]
    }
   ],
   "source": [
    "pip install pandas"
   ]
  },
  {
   "cell_type": "code",
   "execution_count": 2,
   "id": "14db158a",
   "metadata": {},
   "outputs": [],
   "source": [
    "import pandas as pd"
   ]
  },
  {
   "cell_type": "code",
   "execution_count": 3,
   "id": "ee6f2c32",
   "metadata": {},
   "outputs": [],
   "source": [
    "# Carregando dados\n",
    "dados = pd.read_csv(r'C:\\Users\\alexf\\OneDrive\\Área de Trabalho\\Portfolio\\Projeto1-JN-Python\\projeto01.csv', delimiter=';')"
   ]
  },
  {
   "cell_type": "code",
   "execution_count": 4,
   "id": "d332aa40",
   "metadata": {},
   "outputs": [
    {
     "name": "stdout",
     "output_type": "stream",
     "text": [
      "  ID_Cliente     Segmento           Regiao           Pais        ID_Produto  \\\n",
      "0   RH-19495   Consumidor         New York  United States   TEC-AC-10003033   \n",
      "1   JR-16210  Corporativo  New South Wales      Australia   FUR-CH-10003950   \n",
      "2   CR-12730   Consumidor       Queensland      Australia   TEC-PH-10004664   \n",
      "3   KM-16375  Home Office           Berlin        Germany   TEC-PH-10004583   \n",
      "4    RH-9495   Consumidor            Dakar        Senegal  TEC-SHA-10000501   \n",
      "\n",
      "    Categoria  Quantidade_Produtos Valor_Venda  \n",
      "0  Tecnologia                    7     2309,65  \n",
      "1      Moveis                    9    3709,395  \n",
      "2  Tecnologia                    9    5175,171  \n",
      "3  Tecnologia                    5     2892,51  \n",
      "4  Tecnologia                    8     2832,96  \n"
     ]
    }
   ],
   "source": [
    "# Visualizando as primeiras linhas dos dados\n",
    "print(dados.head())"
   ]
  },
  {
   "cell_type": "code",
   "execution_count": 5,
   "id": "f1cb85d4",
   "metadata": {},
   "outputs": [
    {
     "name": "stdout",
     "output_type": "stream",
     "text": [
      "<class 'pandas.core.frame.DataFrame'>\n",
      "RangeIndex: 51290 entries, 0 to 51289\n",
      "Data columns (total 8 columns):\n",
      " #   Column               Non-Null Count  Dtype \n",
      "---  ------               --------------  ----- \n",
      " 0   ID_Cliente           51290 non-null  object\n",
      " 1   Segmento             51290 non-null  object\n",
      " 2   Regiao               51290 non-null  object\n",
      " 3   Pais                 51290 non-null  object\n",
      " 4   ID_Produto           51290 non-null  object\n",
      " 5   Categoria            51290 non-null  object\n",
      " 6   Quantidade_Produtos  51290 non-null  int64 \n",
      " 7   Valor_Venda          51290 non-null  object\n",
      "dtypes: int64(1), object(7)\n",
      "memory usage: 3.1+ MB\n",
      "None\n"
     ]
    }
   ],
   "source": [
    "# Obtendo informações sobre os tipos de dados e valores nulos\n",
    "print(dados.info())"
   ]
  },
  {
   "cell_type": "code",
   "execution_count": 6,
   "id": "c99fe684",
   "metadata": {},
   "outputs": [
    {
     "name": "stdout",
     "output_type": "stream",
     "text": [
      "['2309,65' '3709,395' '5175,171' ... '20,416' '1,624' '0,444']\n"
     ]
    }
   ],
   "source": [
    "# Verificar os valores únicos na coluna \"Valor_Venda\" pois deveria ser float64\n",
    "print(dados['Valor_Venda'].unique())"
   ]
  },
  {
   "cell_type": "code",
   "execution_count": 7,
   "id": "a394b502",
   "metadata": {},
   "outputs": [
    {
     "name": "stdout",
     "output_type": "stream",
     "text": [
      "<class 'pandas.core.frame.DataFrame'>\n",
      "RangeIndex: 51290 entries, 0 to 51289\n",
      "Data columns (total 8 columns):\n",
      " #   Column               Non-Null Count  Dtype  \n",
      "---  ------               --------------  -----  \n",
      " 0   ID_Cliente           51290 non-null  object \n",
      " 1   Segmento             51290 non-null  object \n",
      " 2   Regiao               51290 non-null  object \n",
      " 3   Pais                 51290 non-null  object \n",
      " 4   ID_Produto           51290 non-null  object \n",
      " 5   Categoria            51290 non-null  object \n",
      " 6   Quantidade_Produtos  51290 non-null  int64  \n",
      " 7   Valor_Venda          51290 non-null  float64\n",
      "dtypes: float64(1), int64(1), object(6)\n",
      "memory usage: 3.1+ MB\n",
      "None\n"
     ]
    }
   ],
   "source": [
    "# Substituir as vírgulas por pontos e converter para tipo float\n",
    "dados['Valor_Venda'] = dados['Valor_Venda'].str.replace(',', '.').astype(float)\n",
    "\n",
    "# Verificar novamente os tipos de dados\n",
    "print(dados.info())"
   ]
  },
  {
   "cell_type": "code",
   "execution_count": 9,
   "id": "09d06530",
   "metadata": {},
   "outputs": [
    {
     "name": "stdout",
     "output_type": "stream",
     "text": [
      "Total de vendas: 51290\n"
     ]
    }
   ],
   "source": [
    "# Calculando o número total de vendas\n",
    "total_vendas = len(dados)\n",
    "print(\"Total de vendas:\", total_vendas)"
   ]
  },
  {
   "cell_type": "markdown",
   "id": "58c2e7e8",
   "metadata": {},
   "source": [
    "Agora já temos algumas informações:\n",
    "\n",
    "- As colunas são: ID_Cliente, Segmento, Região, País, ID_Produto, Categoria, Quantidade_Produtos e Valor_Venda.\n",
    "- Tipos de dados das colunas.\n",
    "- Número total de vendas."
   ]
  },
  {
   "cell_type": "markdown",
   "id": "63ea1d2b",
   "metadata": {},
   "source": [
    "# Objetivo 1\n",
    "\n",
    "#### Descobrir quantos Países e regiões temos e determinar qual é o País e a região que mais contribuiu para o faturamento total da empresa e qual o  País e a região que menos contribuiu para o faturamento total, seguido com valores."
   ]
  },
  {
   "cell_type": "code",
   "execution_count": 21,
   "id": "c0ed9a0b",
   "metadata": {},
   "outputs": [
    {
     "name": "stdout",
     "output_type": "stream",
     "text": [
      "Número de Países: 147\n"
     ]
    }
   ],
   "source": [
    "# Descobrindo para quantos Países a empresa vendeu, contando o número de valores únicos\n",
    "num_pais = dados['Pais'].nunique()\n",
    "\n",
    "print(\"Número de Países:\", num_pais)"
   ]
  },
  {
   "cell_type": "code",
   "execution_count": 22,
   "id": "c8059721",
   "metadata": {},
   "outputs": [],
   "source": [
    "# Agrupando os dados por País e calculando o faturamento total de vendas para cada País\n",
    "faturamento_pais = dados.groupby('Pais')['Valor_Venda'].sum().reset_index()"
   ]
  },
  {
   "cell_type": "code",
   "execution_count": 23,
   "id": "1506a2cb",
   "metadata": {},
   "outputs": [
    {
     "name": "stdout",
     "output_type": "stream",
     "text": [
      "O País com maior faturamento foi United States com faturamento total de: 2297200.8603\n",
      "O País com menor faturamento foi Equatorial Guinea com faturamento total de: 150.51\n"
     ]
    }
   ],
   "source": [
    "# Identificando o País com maior e menor faturamento\n",
    "pais_maior_faturamento = faturamento_pais.loc[faturamento_pais['Valor_Venda'].idxmax()]\n",
    "pais_menor_faturamento = faturamento_pais.loc[faturamento_pais['Valor_Venda'].idxmin()]\n",
    "\n",
    "print(\"O País com maior faturamento foi\", pais_maior_faturamento['Pais'], \"com faturamento total de:\", pais_maior_faturamento['Valor_Venda'])\n",
    "print(\"O País com menor faturamento foi\", pais_menor_faturamento['Pais'], \"com faturamento total de:\", pais_menor_faturamento['Valor_Venda'])"
   ]
  },
  {
   "cell_type": "code",
   "execution_count": 24,
   "id": "7e758201",
   "metadata": {},
   "outputs": [
    {
     "name": "stdout",
     "output_type": "stream",
     "text": [
      "Número de Regiões: 1094\n"
     ]
    }
   ],
   "source": [
    "# Descobrindo para quantas regiões a empresa vendeu, contando o número de valores únicos\n",
    "num_regioes = dados['Regiao'].nunique()\n",
    "\n",
    "print(\"Número de Regiões:\", num_regioes)"
   ]
  },
  {
   "cell_type": "code",
   "execution_count": 25,
   "id": "f4177a92",
   "metadata": {},
   "outputs": [],
   "source": [
    "# Agrupando os dados por região e calculando o faturamento total de vendas para cada região\n",
    "faturamento_regiao = dados.groupby('Regiao')['Valor_Venda'].sum().reset_index()"
   ]
  },
  {
   "cell_type": "code",
   "execution_count": 26,
   "id": "afd29810",
   "metadata": {},
   "outputs": [
    {
     "name": "stdout",
     "output_type": "stream",
     "text": [
      "A Região com maior faturamento foi England com faturamento total de: 485170.971\n",
      "A Região com menor faturamento foi Matabeleland North com faturamento total de: 3.465\n"
     ]
    }
   ],
   "source": [
    "# Identificar a região com maior e menor faturamento\n",
    "regiao_maior_faturamento = faturamento_regiao.loc[faturamento_regiao['Valor_Venda'].idxmax()]\n",
    "regiao_menor_faturamento = faturamento_regiao.loc[faturamento_regiao['Valor_Venda'].idxmin()]\n",
    "\n",
    "print(\"A Região com maior faturamento foi\", regiao_maior_faturamento['Regiao'], \"com faturamento total de:\", regiao_maior_faturamento['Valor_Venda'])\n",
    "print(\"A Região com menor faturamento foi\", regiao_menor_faturamento['Regiao'], \"com faturamento total de:\", regiao_menor_faturamento['Valor_Venda'])"
   ]
  },
  {
   "cell_type": "markdown",
   "id": "06cc3f50",
   "metadata": {},
   "source": [
    "### Conclusão - Objetivo 1\n",
    "\n",
    "#### Após analisar os dados, foi concluído que a empresa vendeu para 147 Países e 1094 Regiões diferentes, sendo:\n",
    "\n",
    "- O País com maior faturamento foi United States com faturamento total de: 2297200.8603\n",
    "- O País com menor faturamento foi Equatorial Guinea com faturamento total de: 150.51\n",
    "- A Região com maior faturamento foi England com faturamento total de: 485170.971\n",
    "- A Região com menor faturamento foi Matabeleland North com faturamento total de: 3.465"
   ]
  },
  {
   "cell_type": "markdown",
   "id": "b71e118a",
   "metadata": {},
   "source": [
    "# Objetivo 2 \n",
    "\n",
    "#### Identificar qual categoria de produto é a mais vendida e se alguma categoria se destaca em termos de receita."
   ]
  },
  {
   "cell_type": "code",
   "execution_count": 47,
   "id": "64da0ca6",
   "metadata": {
    "scrolled": true
   },
   "outputs": [
    {
     "name": "stdout",
     "output_type": "stream",
     "text": [
      "     Categoria  Quantidade_Produtos   Valor_Venda\n",
      "0       Moveis                34954  4.110874e+06\n",
      "1  Suprimentos               108182  3.787070e+06\n",
      "2   Tecnologia                35176  4.744557e+06\n"
     ]
    }
   ],
   "source": [
    "# Agrupando os dados por categoria e calculando o valor de vendas por cada categoria\n",
    "vendas_por_categoria = dados.groupby('Categoria').agg({'Quantidade_Produtos': 'sum', 'Valor_Venda': 'sum'}).reset_index()\n",
    "print(vendas_por_categoria)"
   ]
  },
  {
   "cell_type": "code",
   "execution_count": 48,
   "id": "f165b888",
   "metadata": {},
   "outputs": [],
   "source": [
    "# Formatar os valores de 'Valor_Venda' para evitar a notação científica\n",
    "vendas_por_categoria['Valor_Venda'] = vendas_por_categoria['Valor_Venda'].map('{:.2f}'.format)"
   ]
  },
  {
   "cell_type": "code",
   "execution_count": 49,
   "id": "e8c6ace4",
   "metadata": {},
   "outputs": [
    {
     "name": "stdout",
     "output_type": "stream",
     "text": [
      "     Categoria  Quantidade_Produtos Valor_Venda\n",
      "0       Moveis                34954  4110874.19\n",
      "1  Suprimentos               108182  3787070.23\n",
      "2   Tecnologia                35176  4744557.50\n"
     ]
    }
   ],
   "source": [
    "print(vendas_por_categoria)"
   ]
  },
  {
   "cell_type": "code",
   "execution_count": 61,
   "id": "8c0a8a13",
   "metadata": {},
   "outputs": [
    {
     "name": "stdout",
     "output_type": "stream",
     "text": [
      "Categoria mais vendida: Suprimentos - Total de produtos vendidos: 108182\n",
      "Categoria destaque em termos de faturamento: Tecnologia - Faturamento total: 4744557.50\n"
     ]
    }
   ],
   "source": [
    "# Imprimindo a Categoria mais vendida e a Categoria que se destaca em termos de receita\n",
    "print(\"Categoria mais vendida:\", categoria_mais_vendida['Categoria'], \"- Total de produtos vendidos:\", categoria_mais_vendida['Quantidade_Produtos'])\n",
    "print(\"Categoria destaque em termos de faturamento:\", categoria_maior_faturamento['Categoria'], \"- Faturamento total: {:.2f}\".format(categoria_maior_faturamento['Valor_Venda']))"
   ]
  },
  {
   "cell_type": "code",
   "execution_count": 62,
   "id": "5440b983",
   "metadata": {},
   "outputs": [],
   "source": [
    "import matplotlib.pyplot as plt"
   ]
  },
  {
   "cell_type": "code",
   "execution_count": 73,
   "id": "31a2421d",
   "metadata": {},
   "outputs": [
    {
     "data": {
      "image/png": "[encoded data removed]",
      "text/plain": [
       "<Figure size 600x300 with 1 Axes>"
      ]
     },
     "metadata": {},
     "output_type": "display_data"
    }
   ],
   "source": [
    "# Gráfico de barras para o número total de produtos vendidos por categoria\n",
    "plt.figure(figsize=(6, 3))\n",
    "plt.bar(vendas_por_categoria['Categoria'], vendas_por_categoria['Quantidade_Produtos'], color='blue')\n",
    "plt.xlabel('Categoria')\n",
    "plt.ylabel('Número de produtos vendidos')\n",
    "plt.title('Número de produtos vendidos por categoria')\n",
    "plt.show()"
   ]
  },
  {
   "cell_type": "code",
   "execution_count": 80,
   "id": "22bf2b6c",
   "metadata": {},
   "outputs": [
    {
     "data": {
      "image/png": "[encoded data removed]",
      "text/plain": [
       "<Figure size 600x300 with 1 Axes>"
      ]
     },
     "metadata": {},
     "output_type": "display_data"
    }
   ],
   "source": [
    "# Gráfico de pizza mostrando a porcentagem de vendas de cada categoria\n",
    "plt.figure(figsize=(6, 3))\n",
    "plt.pie(vendas_por_categoria['Valor_Venda'], labels=vendas_por_categoria['Categoria'], autopct='%1.2f%%', startangle=180)\n",
    "plt.title('Porcentagens do faturamento total de vendas por categoria')\n",
    "plt.show()"
   ]
  },
  {
   "cell_type": "markdown",
   "id": "b9b8fb64",
   "metadata": {},
   "source": [
    "### Conclusão - Objetivo 2\n",
    "\n",
    "- A Categoria com maior número de produtos vendidos é Suprimentos, com 108.182 produtos vendidos, representando 26.96% do faturamento da empresa.\n",
    "- A Categoria que se destaca em termos de receita é a Tecnologia, que faturou 4.744.557,50, representando 37.53% do faturamento da empresa."
   ]
  },
  {
   "cell_type": "code",
   "execution_count": null,
   "id": "6c59deb1",
   "metadata": {},
   "outputs": [],
   "source": []
  }
 ],
 "metadata": {
  "kernelspec": {
   "display_name": "Python 3 (ipykernel)",
   "language": "python",
   "name": "python3"
  },
  "language_info": {
   "codemirror_mode": {
    "name": "ipython",
    "version": 3
   },
   "file_extension": ".py",
   "mimetype": "text/x-python",
   "name": "python",
   "nbconvert_exporter": "python",
   "pygments_lexer": "ipython3",
   "version": "3.9.13"
  }
 },
 "nbformat": 4,
 "nbformat_minor": 5
}
