{
 "cells": [
  {
   "cell_type": "markdown",
   "id": "1b18c366",
   "metadata": {},
   "source": [
    "# Problema de Negócio: Análise de Desempenho de Vendas por Segmento, Região e Categoria de Produto\n",
    "\n",
    "Uma empresa de varejo internacional deseja analisar o desempenho de suas vendas com base nos segmentos de clientes, regiões de atuação e categorias de produtos. A empresa possui dados históricos de vendas que incluem informações sobre os clientes, os produtos vendidos e o valor das vendas em diferentes regiões e categorias de produtos.\n",
    "\n",
    "#### Objetivo:\n",
    "- Descobrir quantos Países e regiões temos e determinar qual é o País e a região que mais contribuiu para o faturamento total da empresa e qual o País e a região que menos contribuiu para o faturamento total, seguido com valores.\n",
    "- Identificar qual categoria de produto é a mais vendida e se alguma categoria se destaca em termos de receita.\n",
    "- Identificar quais segmentos de clientes estão gerando mais receita e quais regiões têm o melhor desempenho de vendas."
   ]
  },
  {
   "cell_type": "code",
   "execution_count": 1,
   "id": "81416083",
   "metadata": {},
   "outputs": [
    {
     "name": "stdout",
     "output_type": "stream",
     "text": [
      "Requirement already satisfied: pandas in c:\\users\\alexf\\anaconda3\\lib\\site-packages (1.4.4)\n",
      "Requirement already satisfied: python-dateutil>=2.8.1 in c:\\users\\alexf\\anaconda3\\lib\\site-packages (from pandas) (2.8.2)\n",
      "Requirement already satisfied: numpy>=1.18.5 in c:\\users\\alexf\\anaconda3\\lib\\site-packages (from pandas) (1.21.5)\n",
      "Requirement already satisfied: pytz>=2020.1 in c:\\users\\alexf\\anaconda3\\lib\\site-packages (from pandas) (2022.1)\n",
      "Requirement already satisfied: six>=1.5 in c:\\users\\alexf\\anaconda3\\lib\\site-packages (from python-dateutil>=2.8.1->pandas) (1.16.0)\n",
      "Note: you may need to restart the kernel to use updated packages.\n"
     ]
    }
   ],
   "source": [
    "pip install pandas"
   ]
  },
  {
   "cell_type": "code",
   "execution_count": 2,
   "id": "8fd03068",
   "metadata": {},
   "outputs": [],
   "source": [
    "import pandas as pd"
   ]
  },
  {
   "cell_type": "code",
   "execution_count": 3,
   "id": "fd072122",
   "metadata": {},
   "outputs": [],
   "source": [
    "# Carregando dados\n",
    "dados = pd.read_csv(r'C:\\Users\\alexf\\OneDrive\\Área de Trabalho\\Portfolio\\Projeto1-JN-Python\\projeto01.csv', delimiter=';')"
   ]
  },
  {
   "cell_type": "code",
   "execution_count": 4,
   "id": "ea135b30",
   "metadata": {},
   "outputs": [
    {
     "name": "stdout",
     "output_type": "stream",
     "text": [
      "  ID_Cliente     Segmento           Regiao           Pais        ID_Produto  \\\n",
      "0   RH-19495   Consumidor         New York  United States   TEC-AC-10003033   \n",
      "1   JR-16210  Corporativo  New South Wales      Australia   FUR-CH-10003950   \n",
      "2   CR-12730   Consumidor       Queensland      Australia   TEC-PH-10004664   \n",
      "3   KM-16375  Home Office           Berlin        Germany   TEC-PH-10004583   \n",
      "4    RH-9495   Consumidor            Dakar        Senegal  TEC-SHA-10000501   \n",
      "\n",
      "    Categoria  Quantidade_Produtos Valor_Venda  \n",
      "0  Tecnologia                    7     2309,65  \n",
      "1      Moveis                    9    3709,395  \n",
      "2  Tecnologia                    9    5175,171  \n",
      "3  Tecnologia                    5     2892,51  \n",
      "4  Tecnologia                    8     2832,96  \n"
     ]
    }
   ],
   "source": [
    "# Visualizando as primeiras linhas dos dados\n",
    "print(dados.head())"
   ]
  },
  {
   "cell_type": "code",
   "execution_count": 5,
   "id": "f3415a7a",
   "metadata": {},
   "outputs": [
    {
     "name": "stdout",
     "output_type": "stream",
     "text": [
      "<class 'pandas.core.frame.DataFrame'>\n",
      "RangeIndex: 51290 entries, 0 to 51289\n",
      "Data columns (total 8 columns):\n",
      " #   Column               Non-Null Count  Dtype \n",
      "---  ------               --------------  ----- \n",
      " 0   ID_Cliente           51290 non-null  object\n",
      " 1   Segmento             51290 non-null  object\n",
      " 2   Regiao               51290 non-null  object\n",
      " 3   Pais                 51290 non-null  object\n",
      " 4   ID_Produto           51290 non-null  object\n",
      " 5   Categoria            51290 non-null  object\n",
      " 6   Quantidade_Produtos  51290 non-null  int64 \n",
      " 7   Valor_Venda          51290 non-null  object\n",
      "dtypes: int64(1), object(7)\n",
      "memory usage: 3.1+ MB\n",
      "None\n"
     ]
    }
   ],
   "source": [
    "# Obtendo informações sobre os tipos de dados e valores nulos\n",
    "print(dados.info())"
   ]
  },
  {
   "cell_type": "code",
   "execution_count": 6,
   "id": "669bef8e",
   "metadata": {},
   "outputs": [
    {
     "name": "stdout",
     "output_type": "stream",
     "text": [
      "['2309,65' '3709,395' '5175,171' ... '20,416' '1,624' '0,444']\n"
     ]
    }
   ],
   "source": [
    "# Verificando os valores únicos na coluna \"Valor_Venda\" pois deveria ser do tipo float\n",
    "print(dados['Valor_Venda'].unique())"
   ]
  },
  {
   "cell_type": "code",
   "execution_count": 7,
   "id": "2024e4d0",
   "metadata": {},
   "outputs": [
    {
     "name": "stdout",
     "output_type": "stream",
     "text": [
      "<class 'pandas.core.frame.DataFrame'>\n",
      "RangeIndex: 51290 entries, 0 to 51289\n",
      "Data columns (total 8 columns):\n",
      " #   Column               Non-Null Count  Dtype  \n",
      "---  ------               --------------  -----  \n",
      " 0   ID_Cliente           51290 non-null  object \n",
      " 1   Segmento             51290 non-null  object \n",
      " 2   Regiao               51290 non-null  object \n",
      " 3   Pais                 51290 non-null  object \n",
      " 4   ID_Produto           51290 non-null  object \n",
      " 5   Categoria            51290 non-null  object \n",
      " 6   Quantidade_Produtos  51290 non-null  int64  \n",
      " 7   Valor_Venda          51290 non-null  float64\n",
      "dtypes: float64(1), int64(1), object(6)\n",
      "memory usage: 3.1+ MB\n",
      "None\n"
     ]
    }
   ],
   "source": [
    "# Substituir as vírgulas por pontos e converter para tipo float\n",
    "dados['Valor_Venda'] = dados['Valor_Venda'].str.replace(',', '.').astype(float)\n",
    "\n",
    "# Verificar novamente os tipos de dados após a conversão\n",
    "print(dados.info())"
   ]
  },
  {
   "cell_type": "code",
   "execution_count": 9,
   "id": "54b2647b",
   "metadata": {},
   "outputs": [
    {
     "name": "stdout",
     "output_type": "stream",
     "text": [
      "Total de vendas: 51290\n"
     ]
    }
   ],
   "source": [
    "# Calculando o número total de vendas\n",
    "total_vendas = len(dados)\n",
    "print(\"Total de vendas:\", total_vendas)"
   ]
  },
  {
   "cell_type": "markdown",
   "id": "9b7d5350",
   "metadata": {},
   "source": [
    "Agora já temos algumas informações:\n",
    "\n",
    "- As colunas são: ID_Cliente, Segmento, Região, País, ID_Produto, Categoria, Quantidade_Produtos e Valor_Venda.\n",
    "- Tipos de dados das colunas.\n",
    "- Número total de vendas."
   ]
  },
  {
   "cell_type": "markdown",
   "id": "477b30c2",
   "metadata": {},
   "source": [
    "# Objetivo 1\n",
    "\n",
    "### Descobrir quantos Países e regiões temos e determinar qual é o País e a região que mais contribuiu para o faturamento total da empresa e qual o País e a região que menos contribuiu para o faturamento total, seguido com valores."
   ]
  },
  {
   "cell_type": "code",
   "execution_count": 10,
   "id": "04d68c66",
   "metadata": {},
   "outputs": [
    {
     "name": "stdout",
     "output_type": "stream",
     "text": [
      "Número de Países: 147\n"
     ]
    }
   ],
   "source": [
    "# Descobrindo para quantos Países a empresa vendeu, contando o número de valores únicos\n",
    "num_pais = dados['Pais'].nunique()\n",
    "\n",
    "print(\"Número de Países:\", num_pais)"
   ]
  },
  {
   "cell_type": "code",
   "execution_count": 11,
   "id": "3cf4a171",
   "metadata": {},
   "outputs": [],
   "source": [
    "# Agrupando os dados por País e calculando o faturamento total de vendas para cada País\n",
    "faturamento_pais = dados.groupby('Pais')['Valor_Venda'].sum().reset_index()"
   ]
  },
  {
   "cell_type": "code",
   "execution_count": 12,
   "id": "215239f5",
   "metadata": {},
   "outputs": [
    {
     "name": "stdout",
     "output_type": "stream",
     "text": [
      "O País com maior faturamento foi United States com faturamento total de: 2297200.8603\n",
      "O País com menor faturamento foi Equatorial Guinea com faturamento total de: 150.51\n"
     ]
    }
   ],
   "source": [
    "# Identificando o País com maior e menor faturamento\n",
    "pais_maior_faturamento = faturamento_pais.loc[faturamento_pais['Valor_Venda'].idxmax()]\n",
    "pais_menor_faturamento = faturamento_pais.loc[faturamento_pais['Valor_Venda'].idxmin()]\n",
    "\n",
    "print(\"O País com maior faturamento foi\", pais_maior_faturamento['Pais'], \"com faturamento total de:\", pais_maior_faturamento['Valor_Venda'])\n",
    "print(\"O País com menor faturamento foi\", pais_menor_faturamento['Pais'], \"com faturamento total de:\", pais_menor_faturamento['Valor_Venda'])"
   ]
  },
  {
   "cell_type": "code",
   "execution_count": 13,
   "id": "d716401f",
   "metadata": {},
   "outputs": [
    {
     "name": "stdout",
     "output_type": "stream",
     "text": [
      "Número de Regiões: 1094\n"
     ]
    }
   ],
   "source": [
    "# Descobrindo para quantas regiões a empresa vendeu, contando o número de valores únicos\n",
    "num_regioes = dados['Regiao'].nunique()\n",
    "\n",
    "print(\"Número de Regiões:\", num_regioes)"
   ]
  },
  {
   "cell_type": "code",
   "execution_count": 14,
   "id": "c12d0ddd",
   "metadata": {},
   "outputs": [],
   "source": [
    "# Agrupando os dados por região e calculando o faturamento total de vendas para cada região\n",
    "faturamento_regiao = dados.groupby('Regiao')['Valor_Venda'].sum().reset_index()"
   ]
  },
  {
   "cell_type": "code",
   "execution_count": 15,
   "id": "5d9d64f0",
   "metadata": {},
   "outputs": [
    {
     "name": "stdout",
     "output_type": "stream",
     "text": [
      "A Região com maior faturamento foi England com faturamento total de: 485170.971\n",
      "A Região com menor faturamento foi Matabeleland North com faturamento total de: 3.465\n"
     ]
    }
   ],
   "source": [
    "# Identificar a região com maior e menor faturamento\n",
    "regiao_maior_faturamento = faturamento_regiao.loc[faturamento_regiao['Valor_Venda'].idxmax()]\n",
    "regiao_menor_faturamento = faturamento_regiao.loc[faturamento_regiao['Valor_Venda'].idxmin()]\n",
    "\n",
    "print(\"A Região com maior faturamento foi\", regiao_maior_faturamento['Regiao'], \"com faturamento total de:\", regiao_maior_faturamento['Valor_Venda'])\n",
    "print(\"A Região com menor faturamento foi\", regiao_menor_faturamento['Regiao'], \"com faturamento total de:\", regiao_menor_faturamento['Valor_Venda'])"
   ]
  },
  {
   "cell_type": "code",
   "execution_count": 16,
   "id": "ebf100a2",
   "metadata": {},
   "outputs": [
    {
     "name": "stdout",
     "output_type": "stream",
     "text": [
      "O País com maior faturamento foi United States com faturamento total de: 2297200.8603\n",
      "O País com menor faturamento foi Equatorial Guinea com faturamento total de: 150.51\n"
     ]
    }
   ],
   "source": [
    "# Identificando o País com maior e menor faturamento\n",
    "pais_maior_faturamento = faturamento_pais.loc[faturamento_pais['Valor_Venda'].idxmax()]\n",
    "pais_menor_faturamento = faturamento_pais.loc[faturamento_pais['Valor_Venda'].idxmin()]\n",
    "\n",
    "print(\"O País com maior faturamento foi\", pais_maior_faturamento['Pais'], \"com faturamento total de:\", pais_maior_faturamento['Valor_Venda'])\n",
    "print(\"O País com menor faturamento foi\", pais_menor_faturamento['Pais'], \"com faturamento total de:\", pais_menor_faturamento['Valor_Venda'])"
   ]
  },
  {
   "cell_type": "markdown",
   "id": "fc95559b",
   "metadata": {},
   "source": [
    "## Conclusão - Objetivo 1\n",
    "\n",
    "### Após analisar os dados, foi concluído que a empresa vendeu para 147 Países e 1094 Regiões diferentes, sendo:\n",
    "- O País com maior faturamento foi United States com faturamento total de: 2297200.8603\n",
    "- O País com menor faturamento foi Equatorial Guinea com faturamento total de: 150.51\n",
    "- A Região com maior faturamento foi England com faturamento total de: 485170.971\n",
    "- A Região com menor faturamento foi Matabeleland North com faturamento total de: 3.465"
   ]
  },
  {
   "cell_type": "markdown",
   "id": "1f6375eb",
   "metadata": {},
   "source": [
    "# Objetivo 2\n",
    "\n",
    "#### Identificar qual categoria de produto é a mais vendida e se alguma categoria se destaca em termos de receita."
   ]
  },
  {
   "cell_type": "code",
   "execution_count": 17,
   "id": "2afe2b7c",
   "metadata": {},
   "outputs": [
    {
     "name": "stdout",
     "output_type": "stream",
     "text": [
      "     Categoria  Quantidade_Produtos   Valor_Venda\n",
      "0       Moveis                34954  4.110874e+06\n",
      "1  Suprimentos               108182  3.787070e+06\n",
      "2   Tecnologia                35176  4.744557e+06\n"
     ]
    }
   ],
   "source": [
    "# Agrupando os dados por categoria e calculando o valor de vendas por cada categoria\n",
    "vendas_por_categoria = dados.groupby('Categoria').agg({'Quantidade_Produtos': 'sum', 'Valor_Venda': 'sum'}).reset_index()\n",
    "print(vendas_por_categoria)"
   ]
  },
  {
   "cell_type": "code",
   "execution_count": 18,
   "id": "cec0f87d",
   "metadata": {},
   "outputs": [],
   "source": [
    "# Formatando os valores de 'Valor_Venda' para evitar a notação científica\n",
    "vendas_por_categoria['Valor_Venda'] = vendas_por_categoria['Valor_Venda'].map('{:.2f}'.format)"
   ]
  },
  {
   "cell_type": "code",
   "execution_count": 19,
   "id": "51f04486",
   "metadata": {
    "scrolled": true
   },
   "outputs": [
    {
     "name": "stdout",
     "output_type": "stream",
     "text": [
      "     Categoria  Quantidade_Produtos Valor_Venda\n",
      "0       Moveis                34954  4110874.19\n",
      "1  Suprimentos               108182  3787070.23\n",
      "2   Tecnologia                35176  4744557.50\n"
     ]
    }
   ],
   "source": [
    "print(vendas_por_categoria)"
   ]
  },
  {
   "cell_type": "code",
   "execution_count": 20,
   "id": "789d3c21",
   "metadata": {},
   "outputs": [],
   "source": [
    "categoria_mais_vendida = dados.groupby('Categoria')['Valor_Venda'].sum().reset_index()"
   ]
  },
  {
   "cell_type": "code",
   "execution_count": 21,
   "id": "15ecd1b9",
   "metadata": {},
   "outputs": [],
   "source": [
    "# Encontrando a categoria mais vendida e o total de vendas\n",
    "categoria_mais_vendida = dados.groupby('Categoria')['Valor_Venda'].sum().idxmax()\n",
    "total_vendas_categoria = dados.groupby('Categoria')['Valor_Venda'].sum().max()  \n",
    "total_vendas_categoria = int(total_vendas_categoria)"
   ]
  },
  {
   "cell_type": "code",
   "execution_count": 22,
   "id": "9610fae2",
   "metadata": {},
   "outputs": [
    {
     "name": "stdout",
     "output_type": "stream",
     "text": [
      "Categoria mais vendida: Tecnologia\n",
      "Total de vendas: 4744557\n"
     ]
    }
   ],
   "source": [
    "# Imprimindo os resultados\n",
    "print(\"Categoria mais vendida:\", categoria_mais_vendida)\n",
    "print(\"Total de vendas:\", total_vendas_categoria)"
   ]
  },
  {
   "cell_type": "code",
   "execution_count": 23,
   "id": "4737dff9",
   "metadata": {},
   "outputs": [],
   "source": [
    "import matplotlib.pyplot as plt"
   ]
  },
  {
   "cell_type": "code",
   "execution_count": 24,
   "id": "81b88129",
   "metadata": {},
   "outputs": [
    {
     "data": {
      "image/png": "[encoded data removed]",
      "text/plain": [
       "<Figure size 600x300 with 1 Axes>"
      ]
     },
     "metadata": {},
     "output_type": "display_data"
    }
   ],
   "source": [
    "# Gráfico de barras para o número total de produtos vendidos por categoria\n",
    "plt.figure(figsize=(6, 3))\n",
    "plt.bar(vendas_por_categoria['Categoria'], vendas_por_categoria['Quantidade_Produtos'], color='blue')\n",
    "plt.xlabel('Categoria')\n",
    "plt.ylabel('Número de produtos vendidos')\n",
    "plt.title('Número de produtos vendidos por categoria')\n",
    "plt.show()"
   ]
  },
  {
   "cell_type": "code",
   "execution_count": 25,
   "id": "2961e86a",
   "metadata": {},
   "outputs": [
    {
     "data": {
      "image/png": "[encoded data removed]",
      "text/plain": [
       "<Figure size 600x300 with 1 Axes>"
      ]
     },
     "metadata": {},
     "output_type": "display_data"
    }
   ],
   "source": [
    "# Gráfico de pizza mostrando a porcentagem de vendas de cada categoria\n",
    "plt.figure(figsize=(6, 3))\n",
    "plt.pie(vendas_por_categoria['Valor_Venda'], labels=vendas_por_categoria['Categoria'], autopct='%1.2f%%', startangle=180)\n",
    "plt.title('Porcentagens do faturamento total de vendas por categoria')\n",
    "plt.show()"
   ]
  },
  {
   "cell_type": "markdown",
   "id": "feedf6c1",
   "metadata": {},
   "source": [
    "## Conclusão - Objetivo 2\n",
    "\n",
    "- A Categoria com maior número de produtos vendidos é Suprimentos, com 108.182 produtos vendidos, representando 26.96% do faturamento da empresa.\n",
    "- A Categoria que se destaca em termos de receita é a Tecnologia, que faturou 4.744.557,50, representando 37.53% do faturamento da empresa."
   ]
  },
  {
   "cell_type": "markdown",
   "id": "e6c21a55",
   "metadata": {},
   "source": [
    "# Objetivo 3\n",
    "\n",
    "#### Identificar qual segmento de clientes gerou mais receita e quais regiões têm o melhor desempenho de vendas."
   ]
  },
  {
   "cell_type": "code",
   "execution_count": 26,
   "id": "7013c20b",
   "metadata": {},
   "outputs": [
    {
     "name": "stdout",
     "output_type": "stream",
     "text": [
      "      Segmento   Valor_Venda\n",
      "0   Consumidor  6.507949e+06\n",
      "1  Corporativo  3.824698e+06\n",
      "2  Home Office  2.309855e+06\n"
     ]
    }
   ],
   "source": [
    "# Identificando os valores de venda para cada segmento\n",
    "receita_por_segmento = dados.groupby('Segmento').agg({'Valor_Venda': 'sum'}).reset_index()\n",
    "print(receita_por_segmento)"
   ]
  },
  {
   "cell_type": "code",
   "execution_count": 27,
   "id": "cf7441fb",
   "metadata": {},
   "outputs": [],
   "source": [
    "# Formatando os valores de 'Valor_Venda' para evitar a notação científica\n",
    "receita_por_segmento['Valor_Venda'] = receita_por_segmento['Valor_Venda'].map('{:.2f}'.format)"
   ]
  },
  {
   "cell_type": "code",
   "execution_count": 28,
   "id": "4d207c83",
   "metadata": {},
   "outputs": [
    {
     "name": "stdout",
     "output_type": "stream",
     "text": [
      "      Segmento Valor_Venda\n",
      "0   Consumidor  6507949.42\n",
      "1  Corporativo  3824697.52\n",
      "2  Home Office  2309854.97\n"
     ]
    }
   ],
   "source": [
    "# Vendas para cada segmento\n",
    "print(receita_por_segmento)"
   ]
  },
  {
   "cell_type": "code",
   "execution_count": 29,
   "id": "a55899ad",
   "metadata": {},
   "outputs": [],
   "source": [
    "# Encontrando o segmento mais vendido e o total de vendas\n",
    "segmento_maior_receita = dados.groupby('Segmento')['Valor_Venda'].sum().idxmax()\n",
    "vendas_segmento_maior = dados.groupby('Segmento')['Valor_Venda'].sum().max()\n",
    "vendas_segmento_maior = int(vendas_segmento_maior)"
   ]
  },
  {
   "cell_type": "code",
   "execution_count": 30,
   "id": "0e035b62",
   "metadata": {},
   "outputs": [
    {
     "name": "stdout",
     "output_type": "stream",
     "text": [
      "O Segmento de Cliente que gerou mais receita para a empresa foi Consumidor com 6507949 vendas no total.\n"
     ]
    }
   ],
   "source": [
    "print(\"O Segmento de Cliente que gerou mais receita para a empresa foi\", segmento_maior_receita, \"com\", vendas_segmento_maior, \"vendas no total.\")"
   ]
  },
  {
   "cell_type": "code",
   "execution_count": 31,
   "id": "0a201daa",
   "metadata": {},
   "outputs": [
    {
     "data": {
      "image/png": "[encoded data removed]",
      "text/plain": [
       "<Figure size 600x300 with 1 Axes>"
      ]
     },
     "metadata": {},
     "output_type": "display_data"
    }
   ],
   "source": [
    "# Demonstração usando Pie Plot\n",
    "cores = ['green', 'yellow', 'blue']\n",
    "plt.figure(figsize=(6, 3))\n",
    "plt.pie(receita_por_segmento['Valor_Venda'], labels=receita_por_segmento['Segmento'], autopct='%1.2f%%', startangle=90, colors=cores)\n",
    "plt.title('Porcentagem do Faturamento dos Segmendos dos Clientes')\n",
    "plt.show()"
   ]
  },
  {
   "cell_type": "code",
   "execution_count": 32,
   "id": "3f737578",
   "metadata": {},
   "outputs": [
    {
     "data": {
      "text/html": [
       "<div>\n",
       "<style scoped>\n",
       "    .dataframe tbody tr th:only-of-type {\n",
       "        vertical-align: middle;\n",
       "    }\n",
       "\n",
       "    .dataframe tbody tr th {\n",
       "        vertical-align: top;\n",
       "    }\n",
       "\n",
       "    .dataframe thead th {\n",
       "        text-align: right;\n",
       "    }\n",
       "</style>\n",
       "<table border=\"1\" class=\"dataframe\">\n",
       "  <thead>\n",
       "    <tr style=\"text-align: right;\">\n",
       "      <th></th>\n",
       "      <th>Regiao</th>\n",
       "      <th>Valor_Venda</th>\n",
       "    </tr>\n",
       "  </thead>\n",
       "  <tbody>\n",
       "    <tr>\n",
       "      <th>313</th>\n",
       "      <td>England</td>\n",
       "      <td>485170.9710</td>\n",
       "    </tr>\n",
       "    <tr>\n",
       "      <th>195</th>\n",
       "      <td>California</td>\n",
       "      <td>457687.6315</td>\n",
       "    </tr>\n",
       "    <tr>\n",
       "      <th>437</th>\n",
       "      <td>Ile-de-France</td>\n",
       "      <td>317822.5440</td>\n",
       "    </tr>\n",
       "    <tr>\n",
       "      <th>705</th>\n",
       "      <td>New York</td>\n",
       "      <td>310876.2710</td>\n",
       "    </tr>\n",
       "    <tr>\n",
       "      <th>704</th>\n",
       "      <td>New South Wales</td>\n",
       "      <td>270487.1040</td>\n",
       "    </tr>\n",
       "    <tr>\n",
       "      <th>822</th>\n",
       "      <td>Queensland</td>\n",
       "      <td>238312.7340</td>\n",
       "    </tr>\n",
       "    <tr>\n",
       "      <th>724</th>\n",
       "      <td>North Rhine-Westphalia</td>\n",
       "      <td>216451.8510</td>\n",
       "    </tr>\n",
       "    <tr>\n",
       "      <th>986</th>\n",
       "      <td>Texas</td>\n",
       "      <td>170188.0458</td>\n",
       "    </tr>\n",
       "    <tr>\n",
       "      <th>871</th>\n",
       "      <td>San Salvador</td>\n",
       "      <td>153639.3970</td>\n",
       "    </tr>\n",
       "    <tr>\n",
       "      <th>691</th>\n",
       "      <td>National Capital</td>\n",
       "      <td>152175.3555</td>\n",
       "    </tr>\n",
       "  </tbody>\n",
       "</table>\n",
       "</div>"
      ],
      "text/plain": [
       "                     Regiao  Valor_Venda\n",
       "313                 England  485170.9710\n",
       "195              California  457687.6315\n",
       "437           Ile-de-France  317822.5440\n",
       "705                New York  310876.2710\n",
       "704         New South Wales  270487.1040\n",
       "822              Queensland  238312.7340\n",
       "724  North Rhine-Westphalia  216451.8510\n",
       "986                   Texas  170188.0458\n",
       "871            San Salvador  153639.3970\n",
       "691        National Capital  152175.3555"
      ]
     },
     "execution_count": 32,
     "metadata": {},
     "output_type": "execute_result"
    }
   ],
   "source": [
    "# Listando regiões com melhor desempenho de vendas\n",
    "regioes_maior_venda = dados.groupby('Regiao')['Valor_Venda'].sum().reset_index().sort_values(by='Valor_Venda', ascending=False)\n",
    "regioes_maior_venda.head(10)"
   ]
  },
  {
   "cell_type": "markdown",
   "id": "a884aa5b",
   "metadata": {},
   "source": [
    "## Conclusão - Objetivo 3\n",
    "\n",
    "- Segmento com maior número de vendas: Consumidor - 6507949 vendas no total.\n",
    "- Regiões com melhor desempenho de vendas: England, California, Ile-de-France."
   ]
  }
 ],
 "metadata": {
  "kernelspec": {
   "display_name": "Python 3 (ipykernel)",
   "language": "python",
   "name": "python3"
  },
  "language_info": {
   "codemirror_mode": {
    "name": "ipython",
    "version": 3
   },
   "file_extension": ".py",
   "mimetype": "text/x-python",
   "name": "python",
   "nbconvert_exporter": "python",
   "pygments_lexer": "ipython3",
   "version": "3.9.13"
  }
 },
 "nbformat": 4,
 "nbformat_minor": 5
}
